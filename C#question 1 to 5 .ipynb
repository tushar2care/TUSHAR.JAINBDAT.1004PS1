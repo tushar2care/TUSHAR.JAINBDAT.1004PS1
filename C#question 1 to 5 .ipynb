{
 "cells": [
  {
   "cell_type": "markdown",
   "id": "1130135f",
   "metadata": {},
   "source": [
    "# Question 1\n",
    "The data types are\n",
    "1. int\n",
    "2. double\n",
    "3. boolean\n",
    "4. char\n",
    "5. int\n",
    "6. int\n",
    "7. int\n",
    "8. int\n",
    "9. int\n",
    "10. set\n",
    "11. boolean\n",
    "12. double\n",
    "\n"
   ]
  },
  {
   "cell_type": "code",
   "execution_count": 13,
   "id": "aa638769",
   "metadata": {},
   "outputs": [
    {
     "name": "stdout",
     "output_type": "stream",
     "text": [
      "System.Boolean\r\n"
     ]
    }
   ],
   "source": [
    "Console.WriteLine((5==3).GetType().FullName)\n"
   ]
  },
  {
   "cell_type": "code",
   "execution_count": 12,
   "id": "ce16dbb9",
   "metadata": {},
   "outputs": [
    {
     "name": "stdout",
     "output_type": "stream",
     "text": [
      "34\r\n"
     ]
    }
   ],
   "source": [
    "//Question 2 (a)\n",
    "String s = (\"Supercalifragilisticexpialidocious\");\n",
    "Console.WriteLine(s.Length);\n",
    "\n"
   ]
  },
  {
   "cell_type": "code",
   "execution_count": 50,
   "id": "a7e9337a",
   "metadata": {},
   "outputs": [
    {
     "name": "stdout",
     "output_type": "stream",
     "text": [
      "True\r\n"
     ]
    }
   ],
   "source": [
    "// Question 2(b)\n",
    "\n",
    "String s = (\"Supercalifragilisticexpialidocious\");\n",
    "    for(int i=0;i<s.Length-3;i++)\n",
    "    {\n",
    "        if(s.Substring(i,3)==\"ice\")\n",
    "        {\n",
    "            Console.WriteLine(true);\n",
    "    \n",
    "        }\n",
    "    }"
   ]
  },
  {
   "cell_type": "code",
   "execution_count": 55,
   "id": "fda6cb84",
   "metadata": {},
   "outputs": [
    {
     "name": "stdout",
     "output_type": "stream",
     "text": [
      "Bababadalgharaghtakamminarronnkonn is the longest\r\n"
     ]
    }
   ],
   "source": [
    "// Question 2(c)\n",
    "String a = \"Supercalifragilisticexpialidocious\";\n",
    "String b = \"Honorificabilitudinitatibus\";\n",
    "String c = \"Bababadalgharaghtakamminarronnkonn\";\n",
    "if(((a.Length) > (b.Length)) && ((a.Length) > (c.Length)))\n",
    "    Console.WriteLine(\"Supercalifragilisticexpialidocious is the longest\");\n",
    "else if(((b.Length) > (a.Length)) && ((b.Length) > (c.Length)))\n",
    "    Console.WriteLine(\"Honorificabilitudinitatibus is the longest\");\n",
    "else\n",
    "    Console.WriteLine(\"Bababadalgharaghtakamminarronnkonn is the longest\");\n",
    "\n",
    "\n",
    "\n"
   ]
  },
  {
   "cell_type": "code",
   "execution_count": 61,
   "id": "359a868a",
   "metadata": {},
   "outputs": [
    {
     "name": "stdout",
     "output_type": "stream",
     "text": [
      "Bababadalgharaghtakamminarronnkonn\n",
      "Supercalifragilisticexpialidocious\n"
     ]
    }
   ],
   "source": [
    "// Question 2(d)\n",
    "string[] a = { \"Supercalifragilisticexpialidocious\", \"Honorificabilitudinitatibus\", \"Bababadalgharaghtakamminarronnkonn\" };\n",
    "List<string> aa = new List<string>(a);\n",
    "aa.Sort();\n",
    "Console.WriteLine(aa[0]);\n",
    "Console.WriteLine(aa[aa.Count -1]);"
   ]
  },
  {
   "cell_type": "code",
   "execution_count": 16,
   "id": "5b6bf0a9",
   "metadata": {},
   "outputs": [],
   "source": [
    "//Question 3\n",
    "class triangle\n",
    "    {\n",
    "        public void trianglearea(int a, int b, int c)\n",
    "        {\n",
    "            float s;\n",
    "            double area;\n",
    "            s = (a+b+c)/2;\n",
    "            area = Math.Sqrt(s*(s-a)*(s-b)*(s-c));\n",
    "            Console.WriteLine($\"Are of the triabgle is - {area}\");\n",
    "        }\n",
    "    }"
   ]
  },
  {
   "cell_type": "code",
   "execution_count": 32,
   "id": "26c55904",
   "metadata": {},
   "outputs": [
    {
     "name": "stdout",
     "output_type": "stream",
     "text": [
      "Are of the triabgle is - 1.7320508075688772\r\n"
     ]
    }
   ],
   "source": [
    "triangle mytriangle = new triangle();\n",
    "mytriangle.trianglearea(2,2,2);\n"
   ]
  }
 ],
 "metadata": {
  "kernelspec": {
   "display_name": ".NET (C#)",
   "language": "C#",
   "name": ".net-csharp"
  },
  "language_info": {
   "file_extension": ".cs",
   "mimetype": "text/x-csharp",
   "name": "C#",
   "pygments_lexer": "csharp",
   "version": "8.0"
  }
 },
 "nbformat": 4,
 "nbformat_minor": 5
}
